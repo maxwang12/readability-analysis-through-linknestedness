{
 "cells": [
  {
   "cell_type": "code",
   "execution_count": 2,
   "metadata": {},
   "outputs": [],
   "source": [
    "import requests\n",
    "from bs4 import BeautifulSoup\n",
    "from urllib.request import urlopen\n",
    "import pandas as pd\n",
    "import csv\n",
    "import os "
   ]
  },
  {
   "cell_type": "code",
   "execution_count": 3,
   "metadata": {},
   "outputs": [],
   "source": [
    "df1 = pd.read_csv(\"vtdatabrokers2019-Jan-18-2023.csv\") # reading in privacy policy corpus\n",
    "df1 = df1.head()"
   ]
  },
  {
   "cell_type": "code",
   "execution_count": 4,
   "metadata": {},
   "outputs": [
    {
     "ename": "TypeError",
     "evalue": "DataFrame.__init__() got multiple values for argument 'columns'",
     "output_type": "error",
     "traceback": [
      "\u001b[1;31m---------------------------------------------------------------------------\u001b[0m",
      "\u001b[1;31mTypeError\u001b[0m                                 Traceback (most recent call last)",
      "Cell \u001b[1;32mIn[4], line 29\u001b[0m\n\u001b[0;32m     27\u001b[0m     \u001b[38;5;28;01mexcept\u001b[39;00m: \u001b[38;5;66;03m# if status code is not 200, skip to the next corpus URL\u001b[39;00m\n\u001b[0;32m     28\u001b[0m          \u001b[38;5;28;01mcontinue\u001b[39;00m\n\u001b[1;32m---> 29\u001b[0m df2\u001b[38;5;241m=\u001b[39mpd\u001b[38;5;241m.\u001b[39mDataFrame(corpusurls, column_of_links, counts, columns\u001b[38;5;241m=\u001b[39m[[\u001b[38;5;124m'\u001b[39m\u001b[38;5;124mURLS\u001b[39m\u001b[38;5;124m'\u001b[39m,\u001b[38;5;124m'\u001b[39m\u001b[38;5;124mLists\u001b[39m\u001b[38;5;124m'\u001b[39m, \u001b[38;5;124m'\u001b[39m\u001b[38;5;124mCounts\u001b[39m\u001b[38;5;124m'\u001b[39m]]) \u001b[38;5;66;03m# create the dataframe to display counts of links for each policy read in\u001b[39;00m\n\u001b[0;32m     30\u001b[0m df2\u001b[38;5;241m.\u001b[39mto_csv(\u001b[38;5;124m'\u001b[39m\u001b[38;5;124mLink_Counts_V1.csv\u001b[39m\u001b[38;5;124m'\u001b[39m, index\u001b[38;5;241m=\u001b[39m\u001b[38;5;28;01mTrue\u001b[39;00m) \u001b[38;5;66;03m# save the dataframe to a csv file\u001b[39;00m\n\u001b[0;32m     31\u001b[0m \u001b[38;5;28mprint\u001b[39m(\u001b[38;5;124m\"\u001b[39m\u001b[38;5;124mSuccess\u001b[39m\u001b[38;5;124m\"\u001b[39m)\n",
      "\u001b[1;31mTypeError\u001b[0m: DataFrame.__init__() got multiple values for argument 'columns'"
     ]
    }
   ],
   "source": [
    "# read in the dataframe and then go row by row, reading for a specific column\n",
    "corpusurls = [] # sets first parameter for the dataframe\n",
    "column_of_links = [] # sets second parameter for the dataframe\n",
    "counts = [] # sets third parameter for the dataframe\n",
    "for index, row in df1.iterrows(): # read for each row in the csv file\n",
    "    try:\n",
    "        response=requests.get(row['PrivacyPolicyInternetAddress']) # identify website's scrapeability (for first URL under current policy column)\n",
    "        response.status_code=200 # set condition for the status code to be equal to 200; signifies website is accessible and scrapeable\n",
    "        corpusurls.append(row['PrivacyPolicyInternetAddress']) # if website is useable, append url to corpus urls list\n",
    "        page = urlopen(row['PrivacyPolicyInternetAddress']) # open the page to begin reading into the links\n",
    "        html_bytes = page.read() # reads html file of page variable\n",
    "        html = html_bytes.decode(\"utf-8\") # decodes html from utf-8 into readable text for python?\n",
    "        soup = BeautifulSoup(html, \"html.parser\") # create a beautifulsoup object where html is parsed and output is stored as a variable\n",
    "        links = soup.find_all(\"a\") # create list object that contains all the \"a\" tagged information within the parsed html file\n",
    "        for link in links: # for loop to evaluate which links may count as nested links\n",
    "            usable_urls = [] # create a list object to store usable links\n",
    "            url = link.get('href') # define the characteristic of the link to be \"href\" tagged \n",
    "            if url is None or \"#\" in url: # if url is not found or there is a # in the url, then continue onto the next link\n",
    "                continue\n",
    "            elif \"mailto:\" in url: # if url is an email link, then continue onto the next link\n",
    "                continue\n",
    "            else:\n",
    "                usable_urls.append(url) # append the URL to the usable links list\n",
    "        link_count = len(usable_urls) # count the number of links in the list and store that as a count for the URL\n",
    "        counts.append(link_count) # store link count for the URL as an item in the count list\n",
    "        column_of_links.append(usable_urls) # store the list of links as an item within the column of link lists\n",
    "    except: # if status code is not 200, skip to the next corpus URL\n",
    "         continue\n",
    "df2=pd.DataFrame(corpusurls, column_of_links, counts, columns=[['URLS','Lists', 'Counts']]) # create the dataframe to display counts of links for each policy read in\n",
    "df2.to_csv('Link_Counts_V1.csv', index=True) # save the dataframe to a csv file\n",
    "print(\"Success\")\n",
    "\n"
   ]
  }
 ],
 "metadata": {
  "kernelspec": {
   "display_name": "base",
   "language": "python",
   "name": "python3"
  },
  "language_info": {
   "codemirror_mode": {
    "name": "ipython",
    "version": 3
   },
   "file_extension": ".py",
   "mimetype": "text/x-python",
   "name": "python",
   "nbconvert_exporter": "python",
   "pygments_lexer": "ipython3",
   "version": "3.11.7"
  }
 },
 "nbformat": 4,
 "nbformat_minor": 2
}
