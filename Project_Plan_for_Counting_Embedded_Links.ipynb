{
  "nbformat": 4,
  "nbformat_minor": 0,
  "metadata": {
    "colab": {
      "provenance": [],
      "authorship_tag": "ABX9TyM3ZlvQWba7BE8/Xuus+hgf",
      "include_colab_link": true
    },
    "kernelspec": {
      "name": "python3",
      "display_name": "Python 3"
    },
    "language_info": {
      "name": "python"
    }
  },
  "cells": [
    {
      "cell_type": "markdown",
      "metadata": {
        "id": "view-in-github",
        "colab_type": "text"
      },
      "source": [
        "<a href=\"https://colab.research.google.com/github/maxwang12/readability-analysis-through-linknestedness/blob/main/Link_nestedness_count_Links.ipynb\" target=\"_parent\"><img src=\"https://colab.research.google.com/assets/colab-badge.svg\" alt=\"Open In Colab\"/></a>"
      ]
    },
    {
      "cell_type": "markdown",
      "source": [
        "#Imports\n"
      ],
      "metadata": {
        "id": "zn8afUQDu0dw"
      }
    },
    {
      "cell_type": "code",
      "execution_count": null,
      "metadata": {
        "id": "DmI_O9a3mtP4"
      },
      "outputs": [],
      "source": [
        "#imports (pandas, beautiful soup, and requests)\n"
      ]
    },
    {
      "cell_type": "code",
      "source": [
        "#We will want to open our dataset via pandas"
      ],
      "metadata": {
        "id": "ytNV5ZDinSwh"
      },
      "execution_count": null,
      "outputs": []
    },
    {
      "cell_type": "markdown",
      "source": [
        "#count links for one page"
      ],
      "metadata": {
        "id": "ytF0Z0giu4H6"
      }
    },
    {
      "cell_type": "code",
      "source": [
        "#Let's start by seeing if we can count the number of links on just one webpage first using beautifulsoup, if this works then we will make it a function\n",
        "\n",
        "url = \"https://stackoverflow.com/questions/53264513/using-beautiful-soup-to-count-links-on-requested-page\"\n",
        "\n",
        "webbrowser.open(url)\n",
        "\n",
        "r = requests.get(url)\n",
        "html_content = r.text\n",
        "\n",
        "# with open('response.html', 'w', encoding=\"utf-8\") as f:\n",
        "#   f.write(html_content)\n",
        "\n",
        "soup = bs4.BeautifulSoup(html_content, \"html.parser\")\n",
        "\n",
        "print(soup.title)\n",
        "links = soup.find_all(\"a\", class_='question-hyperlink')\n",
        "\n",
        "valid_links = {}\n",
        "\n",
        "for i, link in enumerate(links):\n",
        "    href = link.get('href').strip()\n",
        "\n",
        "    if href.startswith('/questions/'):\n",
        "        valid_links[href] = link.text.strip()\n",
        "\n",
        "print(json.dumps(valid_links, indent=4)) # pretty printing dictionary\n",
        "print(len(valid_links)) # prints no of links"
      ],
      "metadata": {
        "id": "t728thm1nBkV"
      },
      "execution_count": null,
      "outputs": []
    },
    {
      "cell_type": "markdown",
      "source": [
        "#count links for many pages"
      ],
      "metadata": {
        "id": "4P__7VmXu9MY"
      }
    },
    {
      "cell_type": "code",
      "source": [
        "#we will then want to make a function out of the link counting that counts links for every url in our data frame and then returns that number into a new column\n",
        "#the function inputs will be the column name and the data frame"
      ],
      "metadata": {
        "id": "LNkbyPGnokMO"
      },
      "execution_count": null,
      "outputs": []
    },
    {
      "cell_type": "code",
      "source": [
        "#we will run this function on our dataframe with the first column input"
      ],
      "metadata": {
        "id": "s1L_6O6Zq9U5"
      },
      "execution_count": null,
      "outputs": []
    },
    {
      "cell_type": "code",
      "source": [
        "#we will run this function on our dataframe with the second column input"
      ],
      "metadata": {
        "id": "P8YozsMjrXDy"
      },
      "execution_count": null,
      "outputs": []
    },
    {
      "cell_type": "code",
      "source": [
        "#we will run this function on our dataframe with the third column input"
      ],
      "metadata": {
        "id": "U4wODir-rYzw"
      },
      "execution_count": null,
      "outputs": []
    },
    {
      "cell_type": "code",
      "source": [
        "#we will run this function on our dataframe with the Fourth column input"
      ],
      "metadata": {
        "id": "M3-GypPorc5_"
      },
      "execution_count": null,
      "outputs": []
    },
    {
      "cell_type": "code",
      "source": [
        "#we will run this function on our dataframe with the Fifth column input"
      ],
      "metadata": {
        "id": "1GGSu-7VrgEH"
      },
      "execution_count": null,
      "outputs": []
    },
    {
      "cell_type": "markdown",
      "source": [
        "#Check point 1 save our work as a csv"
      ],
      "metadata": {
        "id": "c8y5MOKZvDsA"
      }
    },
    {
      "cell_type": "code",
      "source": [
        "#lets make sure to save our dataframe to a csv\n"
      ],
      "metadata": {
        "id": "-_cjNoGLrh3e"
      },
      "execution_count": null,
      "outputs": []
    },
    {
      "cell_type": "markdown",
      "source": [
        "#visualiziation"
      ],
      "metadata": {
        "id": "pfg75krZuxPg"
      }
    },
    {
      "cell_type": "code",
      "source": [
        "#now let's visualize this, make a graph that shows the counts of links for each year\n",
        "#save the visualization as a PDF"
      ],
      "metadata": {
        "id": "3E5H2N_7uJ7p"
      },
      "execution_count": null,
      "outputs": []
    },
    {
      "cell_type": "code",
      "source": [
        "#now let's visualize this, make a graph that shows the counts of links for each year for each company\n",
        "#save the visualization as a PDF"
      ],
      "metadata": {
        "id": "8I7L_1YmuslF"
      },
      "execution_count": null,
      "outputs": []
    },
    {
      "cell_type": "code",
      "source": [
        "#now let's visualize this, make a graph that takes the mean of the total count of links per year and plots them over time\n",
        "#save the visualization as a PDF"
      ],
      "metadata": {
        "id": "kH4_kp6RuUy6"
      },
      "execution_count": null,
      "outputs": []
    }
  ]
}
